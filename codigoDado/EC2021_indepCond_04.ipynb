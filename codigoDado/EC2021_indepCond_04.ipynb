{
 "cells": [
  {
   "cell_type": "code",
   "execution_count": 1,
   "metadata": {},
   "outputs": [],
   "source": [
    "from probabilityPlus import *\n",
    "from prettytable import *\n",
    "from utils import print_table\n",
    "import itertools"
   ]
  },
  {
   "cell_type": "code",
   "execution_count": 17,
   "metadata": {},
   "outputs": [
    {
     "name": "stdout",
     "output_type": "stream",
     "text": [
      "BayesNet([('A', ''), ('B', 'A'), ('D', 'A'), ('E', 'B D'), ('C', 'B')])\n",
      "BayesNet([('A', ''), ('B', 'A'), ('D', 'A'), ('E', 'B D'), ('C', 'B')])\n"
     ]
    }
   ],
   "source": [
    "#em que  𝑅  é uma Rede de Bayes,  𝑋  e  𝑌  são duas variáveis diferentes na rede  𝑅 , e  𝐸  é um conjunto, \n",
    "#possivelmente vazio, de variáveis da Rede de Bayes  𝑅  que não contem nem  𝑋  nem  𝑌 . \n",
    "#Essa função verifica se  𝑋  é condicionalmente independente de  𝑌  dado o conjunto de variáveis  𝐸 , \n",
    "#devolvendo um valor booleano.\n",
    "def cond_indep(X, Y, E, R):\n",
    "    l = []\n",
    "    path(l, X, Y, R)\n",
    "    for p in l:\n",
    "        if state(p, E, R):\n",
    "            return False\n",
    "    return True\n",
    "\n",
    "def state(p, E, R):\n",
    "    l = p[:3]\n",
    "    t = p[1:]\n",
    "    if(len(l) < 3):\n",
    "        return True\n",
    "    if inactive(l, E, R): #True if inactive, False otherwise\n",
    "        return False\n",
    "    elif len(p[1:]) >= 3:\n",
    "        state(p[1:], E, R)\n",
    "    else:\n",
    "        return True\n",
    "    \n",
    "def inactive(l, E, R):\n",
    "    if efeitoCausal(l, E, R):\n",
    "        if l[1] in E:\n",
    "            return True\n",
    "        else:\n",
    "            return False\n",
    "    elif efeitoComum(l, E, R):\n",
    "        if l[1] in E:\n",
    "            return False\n",
    "        for node in R.variable_node(l[1]).children:\n",
    "            if node in E: # check if any descendants of middle cenas is in evidence\n",
    "                return False\n",
    "    else:\n",
    "        if l[1] in E:\n",
    "            return True\n",
    "\n",
    "def efeitoCausal(l, E, R): #True if it is\n",
    "    return (l[0] in R.variable_node(l[1]).parents and l[1] in R.variable_node(l[2]).parents) or (l[2] in R.variable_node(l[1]).parents and l[1] in R.variable_node(l[0]).parents)\n",
    "\n",
    "def efeitoComum(l, E, R): #True if it is\n",
    "    return l[0] in R.variable_node(l[1]).parents and l[2] in R.variable_node(l[1]).parents\n",
    "           \n",
    "def path(lista, X, Y, R, t = []):\n",
    "    if X == Y:\n",
    "        t.append(X)\n",
    "        lista.append(t)\n",
    "        return\n",
    "    \n",
    "    if X in t:\n",
    "        return \n",
    "    \n",
    "    children = R.variable_node(X).children \n",
    "    if len(children) > 0:\n",
    "        for child in children:\n",
    "            l = []\n",
    "            for x in t:\n",
    "                l.append(x)\n",
    "            l.append(X)\n",
    "            path(lista, child, Y , R, l)\n",
    "    parents = R.variable_node(X).parents\n",
    "    if len(parents) > 1:\n",
    "        for parent in parents:\n",
    "            if parent != t[-1]:\n",
    "                l = []\n",
    "                for x in t:\n",
    "                    l.append(x)\n",
    "                l.append(X)\n",
    "                path(lista, parent, Y, R, l)\n",
    "    \n",
    "T, F = True, False\n",
    "print(burglary)\n",
    "burglary = BayesNet([\n",
    "    ('A', '', 0.001),\n",
    "    ('B', 'A', {T: 0.90, F: 0.05}),\n",
    "    ('D', 'A', {T: 0.90, F: 0.05}),\n",
    "    ('E', 'B D', {(T, T): 0.95, (T, F): 0.94, (F, T): 0.29, (F, F): 0.001}),\n",
    "    ('C', 'B', {T: 0.70, F: 0.01})\n",
    "])\n",
    "#cond_indep('A', 'C', 'E', burglary)\n",
    "cond_indep('A', 'A', [], burglary)\n",
    "\n",
    "print(burglary)"
   ]
  },
  {
   "cell_type": "code",
   "execution_count": 14,
   "metadata": {},
   "outputs": [
    {
     "data": {
      "text/plain": [
       "True"
      ]
     },
     "execution_count": 14,
     "metadata": {},
     "output_type": "execute_result"
    }
   ],
   "source": [
    "burglary = BayesNet([\n",
    "    ('A', '', 0.001),\n",
    "    ('B', 'A', {T: 0.90, F: 0.05}),\n",
    "    ('D', 'A', {T: 0.90, F: 0.05}),\n",
    "    ('E', 'B D', {(T, T): 0.95, (T, F): 0.94, (F, T): 0.29, (F, F): 0.001}),\n",
    "    ('C', 'B', {T: 0.70, F: 0.01})\n",
    "])\n",
    "\n",
    "#que recebe como argumento uma instância  𝑅  de uma Rede de Bayes \n",
    "#e que devolve uma lista com todos os triplos distintos  (𝑋,𝑌,𝐸)  tais que se verifica que  \n",
    "#𝑋  é condicionalmente independente de  𝑌  dado  𝐸 a rede n  𝑅 .\n",
    "def todos_cond_indeps(R):\n",
    "    nodes = []\n",
    "    ret = []\n",
    "    #for node in R.nodes:\n",
    "        #nodes.append(node.variable)\n",
    "    #E = evi(nodes)\n",
    "    #for nodeX in nodes:\n",
    "        #for nodeY in nodes:\n",
    "            #for ev in E:\n",
    "                #if cond_indep(nodeX, nodeY, ev, R):\n",
    "                    #ret.append((nodeX, nodeY, ev))\n",
    "    return cond_indep('A', 'A', [], R)\n",
    "\n",
    "todos_cond_indeps(burglary)"
   ]
  },
  {
   "cell_type": "code",
   "execution_count": null,
   "metadata": {},
   "outputs": [],
   "source": []
  },
  {
   "cell_type": "code",
   "execution_count": null,
   "metadata": {},
   "outputs": [],
   "source": []
  }
 ],
 "metadata": {
  "kernelspec": {
   "display_name": "Python 3",
   "language": "python",
   "name": "python3"
  },
  "language_info": {
   "codemirror_mode": {
    "name": "ipython",
    "version": 3
   },
   "file_extension": ".py",
   "mimetype": "text/x-python",
   "name": "python",
   "nbconvert_exporter": "python",
   "pygments_lexer": "ipython3",
   "version": "3.8.3"
  }
 },
 "nbformat": 4,
 "nbformat_minor": 4
}
