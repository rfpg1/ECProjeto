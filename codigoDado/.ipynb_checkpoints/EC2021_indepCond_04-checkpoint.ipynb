{
 "cells": [
  {
   "cell_type": "code",
   "execution_count": 1,
   "metadata": {},
   "outputs": [],
   "source": [
    "from EC2021_indepCond_04 import * #Importar o código que desenvolvemos"
   ]
  },
  {
   "cell_type": "markdown",
   "metadata": {},
   "source": [
    "### Trabalho realizado por:\n",
    "\n",
    "Rafael Abrantes fc52751\n",
    "\n",
    "Ricardo Gonçalves fc52765\n",
    "\n",
    "Daniel Batista fc52773"
   ]
  },
  {
   "cell_type": "markdown",
   "metadata": {},
   "source": [
    "# Introdução\n",
    "\n",
    "Este projeto tem 3 metodos, em que o primeiro é para ver se dois nós são condicionalmente independentes, o 2 dá a explicação do porquê de serem ou não condicionalmente independente e o ultimo dá todos os nós numa rede de bayes que são condiocionalmente independentes. Ficou tudo desenvolvido e sem bugs aos nossos olhos"
   ]
  },
  {
   "cell_type": "markdown",
   "metadata": {},
   "source": [
    "## Criação das Redes de Bayes\n",
    "\n",
    "As probabilidade de cada nó não são realistas"
   ]
  },
  {
   "cell_type": "code",
   "execution_count": 2,
   "metadata": {},
   "outputs": [],
   "source": [
    "T, F = True, False\n",
    "\n",
    "enunciado = BayesNet([\n",
    "    ('A', '', 0.001),\n",
    "    ('B', 'A', {T: 0.90, F: 0.05}),\n",
    "    ('D', 'A', {T: 0.90, F: 0.05}),\n",
    "    ('E', 'B D', {(T, T): 0.95, (T, F): 0.94, (F, T): 0.29, (F, F): 0.001}),\n",
    "    ('C', 'B', {T: 0.70, F: 0.01})\n",
    "])\n",
    "\n",
    "exemploNosso = BayesNet([\n",
    "    ('A', '', 0.001),\n",
    "    ('B', 'A', {T: 0.90, F: 0.05}),\n",
    "    ('C', 'A', {T: 0.90, F: 0.05}),\n",
    "    ('D', 'B C', {(T, T): 0.95, (T, F): 0.94, (F, T): 0.29, (F, F): 0.001}),\n",
    "    ('E', 'D', {T: 0.70, F: 0.01})\n",
    "])\n"
   ]
  },
  {
   "cell_type": "markdown",
   "metadata": {},
   "source": [
    "## 1. cond_indep\n",
    "\n",
    "Para o primeiro método, o nosso primeiro passo é verificar se X ou Y estão nas evidências, caso esteja retorna logo False. O segundo passo é ir buscar todos os caminhos entre X e Y para depois conseguirmos ver se os caminhos são ativos ou inativos\n",
    "\n",
    "Para ir buscar o caminho fizemos o seguinte: criamos um método recursivo que recebe o nó em que estamos, o nó objetivo, a rede de bayes, uma lista que é o caminho que estamos a percorrer e uma outra lista onde serão colocados os caminhos que atingem o nó objetivo. \n",
    "Inicialmente verificamos se o nó atual é o mesmo que o nó objetivo se for colocamos o caminho criado na lista de caminhos. Depois verificamos se ele já está na lista do caminho atual para evitar ciclos infinitos. Caso não esteja, verificamos se tem filhos e/ou pais e chamamos o método para cada um deles\n",
    "\n",
    "```python\n",
    "def path(lista, X, Y, R, t):\n",
    "    if X == Y:\n",
    "        t.append(X)\n",
    "        lista.append(t)\n",
    "        return\n",
    "    \n",
    "    if X in t:\n",
    "        return \n",
    "    \n",
    "    children = R.variable_node(X).children \n",
    "    if len(children) > 0:\n",
    "        for child in children:\n",
    "            l = []\n",
    "            for x in t:\n",
    "                l.append(x)\n",
    "            l.append(X)\n",
    "            path(lista, child, Y , R, l)\n",
    "    parents = R.variable_node(X).parents\n",
    "    if len(parents) > 0:\n",
    "        for parent in parents:\n",
    "            l = []\n",
    "            for x in t:\n",
    "                l.append(x)\n",
    "            l.append(X)\n",
    "            path(lista, parent, Y, R, l)\n",
    "``` \n",
    "\n",
    "Caso não hajam caminhos possíveis, retorna False. Caso contrário, percorremos todos os caminhos se houver um caminho ativo retorna False, se todos forem inativos, retorna True"
   ]
  },
  {
   "cell_type": "code",
   "execution_count": 3,
   "metadata": {},
   "outputs": [
    {
     "name": "stdout",
     "output_type": "stream",
     "text": [
      "False\n",
      "True\n"
     ]
    }
   ],
   "source": [
    "print(cond_indep('A', 'C', ['E'], enunciado))\n",
    "print(cond_indep('E', 'C', ['D', 'B'], exemploNosso))"
   ]
  },
  {
   "cell_type": "markdown",
   "metadata": {},
   "source": [
    "## 2. cond_indep_explica\n",
    "\n",
    "O segundo método é basicamente igual ao primeiro mas acrescentamos a explicação do porquê de ser ou não condicionalmente independente\n",
    "\n",
    "Essa explicação é a seguinte, caso seja condicionalmente independente retorna que X e Y estão D-separados pelas evidências porque todos os caminhos, dizendo todos os caminhos possíveis, são inativos. Caso contrário, diz que todos os triplos de um caminho específico estão ativos tornando assim o caminho ativo o que faz com que não estejam D-seperados pelas evidências não sendo condicionalmente independente"
   ]
  },
  {
   "cell_type": "code",
   "execution_count": 4,
   "metadata": {},
   "outputs": [
    {
     "name": "stdout",
     "output_type": "stream",
     "text": [
      "(False, \"Todos os triplos do caminho ['A', 'B', 'C'] são ativos o que torna ['A', 'B', 'C'] um caminho ativo logo A e C não estão D-separados por ['E'], concluindo não são condicionalmente independentes\")\n",
      "(False, \"Todos os triplos do caminho ['A', 'B', 'D', 'C'] são ativos o que torna ['A', 'B', 'D', 'C'] um caminho ativo logo A e C não estão D-separados por ['E'], concluindo não são condicionalmente independentes\")\n",
      "(True, \"Todos os caminhos entre E e B são inativos logo eles estão D-separados por ['D'], isto é, são condicionalmente independentes\")\n"
     ]
    }
   ],
   "source": [
    "print(cond_indep_explica('A', 'C', ['E'], enunciado))\n",
    "print(cond_indep_explica('A', 'C', ['E'], exemploNosso))\n",
    "print(cond_indep_explica('E', 'B', ['D'], exemploNosso))"
   ]
  },
  {
   "cell_type": "markdown",
   "metadata": {},
   "source": [
    "## 3. todos_cond_indeps\n",
    "\n",
    "Para o terceiro método, inicialmente vamos buscar todos os nós da rede de bayes e todas as combinações de evidências possíveis, utilizando o itertools\n",
    "```python\n",
    "nodes = []\n",
    "for node in R.nodes:\n",
    "    nodes.append(node.variable)\n",
    "E = evi(nodes)\n",
    "\n",
    "def evi(nodes):\n",
    "    ret = []\n",
    "    for i in range(0, len(nodes)+1):\n",
    "        for node in itertools.combinations(nodes, i):\n",
    "            ret.append(list(node))\n",
    "    return ret\n",
    "```\n",
    "\n",
    "De seguida vamos chamar o método cond_indep para todas as combinações (nodeX,nodeY,ev), onde nodeX e nodeY são cada nó da rede de bayes e ev é cada combinação de evidências possíveis. Caso o cond_indep retorne True adicionamos à lista que vamos devolver\n",
    "\n",
    "```python\n",
    "for nodeX in nodes:\n",
    "    for nodeY in nodes:\n",
    "        for ev in E:\n",
    "            if cond_indep(nodeX, nodeY, ev, R):\n",
    "                ret.append((nodeX, nodeY, ev))  \n",
    "```"
   ]
  },
  {
   "cell_type": "code",
   "execution_count": 5,
   "metadata": {},
   "outputs": [
    {
     "name": "stdout",
     "output_type": "stream",
     "text": [
      "Exemplo com rede de bayes do enunciado\n",
      "('A', 'E', ['B', 'D'])\n",
      "('A', 'E', ['B', 'D', 'C'])\n",
      "('A', 'C', ['B'])\n",
      "('A', 'C', ['B', 'D'])\n",
      "('A', 'C', ['B', 'E'])\n",
      "('A', 'C', ['B', 'D', 'E'])\n",
      "('B', 'D', ['A'])\n",
      "('B', 'D', ['A', 'C'])\n",
      "('D', 'B', ['A'])\n",
      "('D', 'B', ['A', 'C'])\n",
      "('D', 'C', ['A'])\n",
      "('D', 'C', ['B'])\n",
      "('D', 'C', ['A', 'B'])\n",
      "('D', 'C', ['B', 'E'])\n",
      "('D', 'C', ['A', 'B', 'E'])\n",
      "('E', 'A', ['B', 'D'])\n",
      "('E', 'A', ['B', 'D', 'C'])\n",
      "('E', 'C', ['B'])\n",
      "('E', 'C', ['A', 'B'])\n",
      "('E', 'C', ['B', 'D'])\n",
      "('E', 'C', ['A', 'B', 'D'])\n",
      "('C', 'A', ['B'])\n",
      "('C', 'A', ['B', 'D'])\n",
      "('C', 'A', ['B', 'E'])\n",
      "('C', 'A', ['B', 'D', 'E'])\n",
      "('C', 'D', ['A'])\n",
      "('C', 'D', ['B'])\n",
      "('C', 'D', ['A', 'B'])\n",
      "('C', 'D', ['B', 'E'])\n",
      "('C', 'D', ['A', 'B', 'E'])\n",
      "('C', 'E', ['B'])\n",
      "('C', 'E', ['A', 'B'])\n",
      "('C', 'E', ['B', 'D'])\n",
      "('C', 'E', ['A', 'B', 'D'])\n",
      "\n",
      "Exemplo com rede de bayes criada por nós\n",
      "('A', 'D', ['B', 'C'])\n",
      "('A', 'D', ['B', 'C', 'E'])\n",
      "('A', 'E', ['D'])\n",
      "('A', 'E', ['B', 'C'])\n",
      "('A', 'E', ['B', 'D'])\n",
      "('A', 'E', ['C', 'D'])\n",
      "('A', 'E', ['B', 'C', 'D'])\n",
      "('B', 'C', ['A'])\n",
      "('B', 'E', ['D'])\n",
      "('B', 'E', ['A', 'D'])\n",
      "('B', 'E', ['C', 'D'])\n",
      "('B', 'E', ['A', 'C', 'D'])\n",
      "('C', 'B', ['A'])\n",
      "('C', 'E', ['D'])\n",
      "('C', 'E', ['A', 'D'])\n",
      "('C', 'E', ['B', 'D'])\n",
      "('C', 'E', ['A', 'B', 'D'])\n",
      "('D', 'A', ['B', 'C'])\n",
      "('D', 'A', ['B', 'C', 'E'])\n",
      "('E', 'A', ['D'])\n",
      "('E', 'A', ['B', 'C'])\n",
      "('E', 'A', ['B', 'D'])\n",
      "('E', 'A', ['C', 'D'])\n",
      "('E', 'A', ['B', 'C', 'D'])\n",
      "('E', 'B', ['D'])\n",
      "('E', 'B', ['A', 'D'])\n",
      "('E', 'B', ['C', 'D'])\n",
      "('E', 'B', ['A', 'C', 'D'])\n",
      "('E', 'C', ['D'])\n",
      "('E', 'C', ['A', 'D'])\n",
      "('E', 'C', ['B', 'D'])\n",
      "('E', 'C', ['A', 'B', 'D'])\n"
     ]
    }
   ],
   "source": [
    "todos_enunciado = todos_cond_indeps(enunciado)\n",
    "todos_nosso = todos_cond_indeps(exemploNosso)\n",
    "print(\"Exemplo com rede de bayes do enunciado\")\n",
    "for triplo in todos_enunciado:\n",
    "    print(triplo)\n",
    "print()\n",
    "print(\"Exemplo com rede de bayes criada por nós\")\n",
    "for triplo in todos_nosso:\n",
    "    print(triplo)"
   ]
  }
 ],
 "metadata": {
  "kernelspec": {
   "display_name": "Python 3",
   "language": "python",
   "name": "python3"
  },
  "language_info": {
   "codemirror_mode": {
    "name": "ipython",
    "version": 3
   },
   "file_extension": ".py",
   "mimetype": "text/x-python",
   "name": "python",
   "nbconvert_exporter": "python",
   "pygments_lexer": "ipython3",
   "version": "3.8.3"
  }
 },
 "nbformat": 4,
 "nbformat_minor": 4
}
