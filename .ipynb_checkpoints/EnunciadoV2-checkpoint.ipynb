{
 "cells": [
  {
   "cell_type": "markdown",
   "metadata": {},
   "source": [
    "# Projeto nº 1, parte 1: Engenharia de Conhecimento 20/21\n",
    "\n",
    "## Topologia das Redes de Bayes e os Pressupostos de Independência Condicional\n",
    "\n",
    "##### Lançamento: 5 de Março de 2021\n",
    "#### Entrega: 19 de Março de 2021 às 23h59\n",
    "\n",
    "<img src=\"files/imagens/ThisBNcontainsIndAssump.PNG\" alt=\"Drawing\" style=\"width: 250px;\"/> \n"
   ]
  },
  {
   "cell_type": "markdown",
   "metadata": {},
   "source": [
    "### Introdução\n",
    "\n",
    "É decisivo, no que diz respeito à modelização, compreender os pressupostos de independência (condicional e marginal) quando\n",
    "se adopta um grafo particular para representar uma rede bayesiana. \n",
    "\n",
    "Existem os pressupostos de independência usados directamente na simplificação da regra da cadeia. \n",
    "Mas, existem pressupostos de independência condicional adicionais, indirectos, implicados. \n",
    "\n",
    "De uma forma grosseira, duas variáveis $X$ e $Y$ são consideradas condicionalmente independentes dado $E$ se o conhecimento sobre $X$ quando se conhece $E$ não nos dá nenhuma informação extra em relação ao conhecimento sobre $Y$. De forma mais sintética, a partir do momento que conhecemos $E$, $X$ não adiciona nada em relação ao que conhecemos sobre $Y$.\n",
    "Em termos da topologia das redes de Bayes, $X$ e $Y$ são considerados condicionalmente independentes dado o conjunto de variáveis de evidência $E$ se $X$ e $Y$ estão *D-separados*  por $E$. "
   ]
  },
  {
   "cell_type": "markdown",
   "metadata": {},
   "source": [
    "### Separação-D\n",
    "$X$ e $Y$ estão D-separados por $E$  se todos os caminhos não dirigidos entre $X$ e $Y$ são não activos."
   ]
  },
  {
   "cell_type": "markdown",
   "metadata": {},
   "source": [
    "#### Caminho não activo/activo\n",
    "\n",
    "<img src=\"files/imagens/CondIndepIn3Steps.PNG\" alt=\"Drawing\" style=\"width: 250px;\"/> \n",
    "\n",
    "Um caminho é considerado como sendo activo se todos os triplos que formam esse caminho estão activos. \n",
    "Os triplos são sequências de 3 variáveis. Basta um triplo inactivo para tornar um caminho não activo.\n",
    "\n",
    "Note que se um caminho não tiver nenhum triplo, pela definição de quantificador universal, então todos os triplos (existentes) nesse caminho satisfazem qualquer condição, logo todos  estão activos."
   ]
  },
  {
   "cell_type": "markdown",
   "metadata": {},
   "source": [
    "#### Tipos de Triplos\n",
    "Um triplo pode ser de 3 tipos: uma **cadeia causal**, uma **causa comum** e **efeito comum** e a definição de triplo activo é dada a seguir para cada tipo. \n",
    "\n",
    "#### Triplo activo conforme o tipo\n",
    "\n",
    "*Cadeia causal*: $A \\rightarrow B \\rightarrow C$ em que $B$ não é observado (não faz parte da evidência).  \n",
    "\n",
    "*Causa comum*:  $A \\leftarrow B \\rightarrow C$ onde $B$ não é observado.\n",
    "\n",
    "*Efeito comum (estrutura-v)*: $A \\rightarrow B \\leftarrow C$ onde $B$ ou algum dos seus descendentes é observado."
   ]
  },
  {
   "cell_type": "markdown",
   "metadata": {},
   "source": [
    "\n",
    "### Exemplo:\n",
    "\n",
    "Considere o grafo seguinte\n",
    "\n",
    "<img src=\"files/imagens/redetopologia1.png\">\n",
    "\n",
    "\n",
    "Entre $A$ e $C$  há dois caminhos ( acíclicos ) não dirigidos:\n",
    "\n",
    "$A \\rightarrow B \\rightarrow C$  \n",
    "\n",
    "$A \\rightarrow D \\rightarrow E \\leftarrow B \\rightarrow C$\n",
    "\n",
    "\n",
    "Se for dada a evidência $E$:\n",
    "\n",
    "O caminho $A \\rightarrow B \\rightarrow C$ é activo pois tem um único triplo (cadeia causal) que é activo. Isso basta para provar que $A$ e $C$ não estão D-separados por $E$, logo $A$ e $C$ não são condicionalmente independentes dado $E$.\n",
    "\n",
    "\n",
    "Se for dada a evidência $B$:\n",
    "\n",
    "O caminho $A \\rightarrow B \\rightarrow C$ é inativo. Neste caso é necessário verificar o que se passa com o outro caminho.\n",
    "O caminho $A \\rightarrow D \\rightarrow E \\leftarrow B \\rightarrow C$ tem vários triplos:\n",
    "\n",
    "1. $A \\rightarrow D \\rightarrow E$ (cadeia causal) que é ativo;\n",
    "2. $D \\rightarrow E \\leftarrow B$ (efeito comum) que é inativo;\n",
    "3. $E \\leftarrow B \\rightarrow C$ (causa comum) que é também inativo.\n",
    "\n",
    "Logo, ambos os caminhos são inativos e, portanto, $A$ e $C$  estão D-separados por $B$, isto é são condicionalmente independentes dado $B$.\n"
   ]
  },
  {
   "cell_type": "markdown",
   "metadata": {},
   "source": [
    "\n",
    "\n",
    "\n",
    "### Objectivos\n",
    "O objectivo é implementar em Python, as três funções principais seguintes:\n",
    "\n",
    "\n",
    "1. Função **cond_indep(X, Y, E, R)**:  em que $R$ é uma Rede de Bayes, $X$ e $Y$ são duas variáveis diferentes na rede $R$, e $E$ é um conjunto, possivelmente vazio, de variáveis da Rede de Bayes $R$ que não contem nem $X$ nem $Y$. Essa função verifica se $X$ é condicionalmente independente de $Y$ dado o conjunto de variáveis $E$, devolvendo um valor booleano.\n",
    "\n",
    "2. Função **cond_indep_explica(X, Y, E, R)**:  que indique na mesma se $X$ e $Y$ são condicionalmente independentes dado $E$, mas que apresente também uma explicação. A função deve retornar um par $(Valor, Explicação)$ onde $Valor$ corresponde ao valor que seria retornado por **cond_indep** e $Explicação$ é uma string. Pode escolher a estrutura dessa explicação, garantindo no entanto que seja compreensível. \n",
    "\n",
    "3. Função **todos_cond_indeps(R)**: que recebe como argumento uma instância  $R$  de uma Rede de Bayes e que devolve uma lista com todos os triplos distintos $(X,Y,E)$ tais que se verifica que $X$ é condicionalmente independente de $Y$ dado $E$ na rede  $R$."
   ]
  },
  {
   "cell_type": "markdown",
   "metadata": {},
   "source": [
    "### Nota\n",
    "O conceito de separação-D é completamente independente dos domínios das variáveis das Redes de Bayes. Assim, devem usar a classe `BayesNet` fornecida no ficheiro `ProbabilityPlus.py`. "
   ]
  },
  {
   "cell_type": "markdown",
   "metadata": {},
   "source": [
    "## Entrega"
   ]
  },
  {
   "cell_type": "markdown",
   "metadata": {},
   "source": [
    "### Código a entregar\n",
    "Têm de ter o código num único ficheiro, chamado ***EC2021_indepCond_XX.py***.\n",
    " Antes de entregarem veriquem que o ficheiro corre numa pasta com os ficheiros python que nós fornecemos, mas que não têm de ser entregues. XX corresponde ao número do grupo.\n"
   ]
  },
  {
   "cell_type": "markdown",
   "metadata": {},
   "source": [
    "### Código a não ser alterado\n",
    "**Não alterem** nem o `utils.py` nem o `probabilityPlus.py` e **não os devem submeter!** Esses ficheiros, tal como são fornecidos, serão usados para correr o vosso código."
   ]
  },
  {
   "cell_type": "markdown",
   "metadata": {},
   "source": [
    "### Relatório\n",
    "O  relatório é **obrigatório** e também é obrigatório que seja feito no formato Jupyter Notebook, devendo chamar-se ***EC2021_indepCond_XX.ipynb*** . \n",
    "\n",
    "\n",
    "**IMPORTANTE**. Qualquer trabalho que não tenha relatório (só o código)  não é avaliado e tem 0 de nota. Os comentários incluidos no código, embora importantes, não serão considerados como parte do relatório.\n",
    "\n",
    "No  relatório podem começar por referir um resumo do que foi feito, indicar se alguma coisa ficou por fazer, se há bugs que não conseguiram resolver, e se fizeram mais do que foi pedido.\n",
    "Devem também descrever de forma clara a estrutura das explicações geradas. O relatório deve incluir exemplos de uso das vossas funções, que tenham utilizado para as testar.  No mínimo devem apresentar no relatório testes relativos a duas redes de Bayes, sendo uma delas a rede dada acima como exemplo.\n"
   ]
  },
  {
   "cell_type": "markdown",
   "metadata": {},
   "source": [
    "### Prazo\n",
    "Submetam um único \n",
    "ficheiro zip chamado  ***EC2021_indepCond_XX.zip*** com os dois ficheiros ***EC2021_indepCond_XX.py*** e ***EC2021_indepCond_XX.ipynb*** até ao dia **19 de Março** às 23:59"
   ]
  }
 ],
 "metadata": {
  "kernelspec": {
   "display_name": "Python 3",
   "language": "python",
   "name": "python3"
  },
  "language_info": {
   "codemirror_mode": {
    "name": "ipython",
    "version": 3
   },
   "file_extension": ".py",
   "mimetype": "text/x-python",
   "name": "python",
   "nbconvert_exporter": "python",
   "pygments_lexer": "ipython3",
   "version": "3.8.3"
  }
 },
 "nbformat": 4,
 "nbformat_minor": 2
}
